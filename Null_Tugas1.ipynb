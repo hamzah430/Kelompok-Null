{
  "nbformat": 4,
  "nbformat_minor": 0,
  "metadata": {
    "colab": {
      "name": "Null_Tugas1.ipynb",
      "provenance": [],
      "collapsed_sections": [
        "W0Cz3txM7IiH",
        "CjmSvW4K8unL",
        "us9J1cDBNo3O",
        "ksHvxRLpGzca"
      ]
    },
    "kernelspec": {
      "name": "python3",
      "display_name": "Python 3"
    },
    "language_info": {
      "name": "python"
    }
  },
  "cells": [
    {
      "cell_type": "markdown",
      "source": [
        "# Dasar-Dasar Python"
      ],
      "metadata": {
        "id": "-TdM2S0WP-KE"
      }
    },
    {
      "cell_type": "markdown",
      "source": [
        "**Tujuan Dari Dasar Python :**\n",
        "1. Mengenal tipe data\n",
        "2. Menghindari risiko terjadinya eror\n",
        "3. Memudahkan dalam penginputan data\n",
        "\n",
        "**tantangan :**\n",
        "1. membuat data numerik\n",
        "2. membuat data string\n",
        "3. membuat data boolean \n",
        "\n",
        "**kriteria keberhasilan :**\n",
        "1. dapat menentukan tipe data numerik \n",
        "2. dapat menentukan tipe data string\n",
        "3. dapat menentukan tipe data boolen \n",
        "\n",
        "\n"
      ],
      "metadata": {
        "id": "5kaDHzJkQRQa"
      }
    },
    {
      "cell_type": "markdown",
      "source": [
        "## Persiapan Data\n",
        "menggunakan Google Colab"
      ],
      "metadata": {
        "id": "fhSjz9C8Yvm2"
      }
    },
    {
      "cell_type": "markdown",
      "source": [
        "**Apa Itu Tipe Data?**"
      ],
      "metadata": {
        "id": "6qc83PFF18OQ"
      }
    },
    {
      "cell_type": "markdown",
      "source": [
        "Tipe Data merupakan pengklasifikasian data berdasarkan jenis data tersebut, atau mudahnya tipe data dapat juga disebut jenis data."
      ],
      "metadata": {
        "id": "2_jBK8Z0Jyqm"
      }
    },
    {
      "cell_type": "markdown",
      "source": [
        "Terdapat 3 tipe data dalam python, yaitu :\n",
        "\n",
        "\n",
        "1.   **Numerik**\n",
        "2.   **String**\n",
        "\n",
        "1.   **Boolean**\n",
        "\n",
        "\n",
        "\n",
        "\n"
      ],
      "metadata": {
        "id": "odUtvCr93DVS"
      }
    },
    {
      "cell_type": "markdown",
      "source": [
        "## **1. Tipe Data Numerik**\n",
        "\n",
        "> Tipe data Numerik berisi data yang berupa angka *(numbers)*\n",
        "\n",
        "\n",
        "\n"
      ],
      "metadata": {
        "id": "W0Cz3txM7IiH"
      }
    },
    {
      "cell_type": "markdown",
      "source": [
        "\n",
        "\n",
        "*   **Integer**\n",
        "Tipe data Integer merupakan sebuah tipe data yang memuat bilangan bulat (tanpa tanda desimal).\n",
        "\n",
        "\n",
        "\n"
      ],
      "metadata": {
        "id": "2bYDDJ9E71xf"
      }
    },
    {
      "cell_type": "code",
      "source": [
        "Nilai = 100"
      ],
      "metadata": {
        "id": "ucHNxHn02A3O"
      },
      "execution_count": null,
      "outputs": []
    },
    {
      "cell_type": "code",
      "source": [
        "print(Nilai)"
      ],
      "metadata": {
        "id": "alPi299R2Zb6",
        "colab": {
          "base_uri": "https://localhost:8080/"
        },
        "outputId": "fac4db3c-4a17-451e-9205-b96e1d752d12"
      },
      "execution_count": null,
      "outputs": [
        {
          "output_type": "stream",
          "name": "stdout",
          "text": [
            "100\n"
          ]
        }
      ]
    },
    {
      "cell_type": "markdown",
      "source": [
        "\n",
        "\n",
        "*   **Float** Tipe data float merupakan sebuah tipe data yang memuat angka desimal.\n",
        "\n"
      ],
      "metadata": {
        "id": "5UzSVayFCAu3"
      }
    },
    {
      "cell_type": "code",
      "source": [
        "Panjang = 12.5"
      ],
      "metadata": {
        "id": "mxCuPbZx_egc"
      },
      "execution_count": null,
      "outputs": []
    },
    {
      "cell_type": "code",
      "source": [
        "print(Panjang)"
      ],
      "metadata": {
        "colab": {
          "base_uri": "https://localhost:8080/"
        },
        "id": "WZW_x0XIC5Gi",
        "outputId": "f8d3121c-7067-4fc1-8d08-f23a1e865e81"
      },
      "execution_count": null,
      "outputs": [
        {
          "output_type": "stream",
          "name": "stdout",
          "text": [
            "12.5\n"
          ]
        }
      ]
    },
    {
      "cell_type": "markdown",
      "source": [
        "\n",
        "\n",
        "*   **Kompleks** Tipe data kompleks merepresentasikan bilangan kompleks yang dituliskan sebagai x+yj, dengan bagian x yang merupakan bilangan real dan y bilangan imajiner.\n",
        "\n",
        "\n"
      ],
      "metadata": {
        "id": "bLyfD9SvDFJO"
      }
    },
    {
      "cell_type": "code",
      "source": [
        "Kompleks = 5+2j"
      ],
      "metadata": {
        "id": "pjjRY-N2GE9j"
      },
      "execution_count": null,
      "outputs": []
    },
    {
      "cell_type": "code",
      "source": [
        "print(Kompleks)"
      ],
      "metadata": {
        "colab": {
          "base_uri": "https://localhost:8080/"
        },
        "id": "Rwvunc9BGUJi",
        "outputId": "350bb48c-d740-4113-d1ee-c6c16ca6b799"
      },
      "execution_count": null,
      "outputs": [
        {
          "output_type": "stream",
          "name": "stdout",
          "text": [
            "(5+2j)\n"
          ]
        }
      ]
    },
    {
      "cell_type": "markdown",
      "source": [
        "## **2. Tipe Data String**\n",
        ">  Tipe Data String dapat Menampung banyak karakter sekaligus. Juga merupakan Gabungan huruf, angka, whitespace (spasi), dan berbagai karakter."
      ],
      "metadata": {
        "id": "CjmSvW4K8unL"
      }
    },
    {
      "cell_type": "markdown",
      "source": [
        "- **Inisialisasi String dengan Petik Satu**"
      ],
      "metadata": {
        "id": "GFMFsglv-i6-"
      }
    },
    {
      "cell_type": "code",
      "source": [
        "petikSatu = 'Selamat Ini Kalimat Pertama Kamu'"
      ],
      "metadata": {
        "id": "XC4MiHavEJzU"
      },
      "execution_count": null,
      "outputs": []
    },
    {
      "cell_type": "code",
      "source": [
        "print(petikSatu)"
      ],
      "metadata": {
        "id": "-J7IFDpqOZhD"
      },
      "execution_count": null,
      "outputs": []
    },
    {
      "cell_type": "markdown",
      "source": [
        "- **Inisialisasi String dengan Petik Dua**"
      ],
      "metadata": {
        "id": "Pxo5bW2qK2w2"
      }
    },
    {
      "cell_type": "code",
      "source": [
        "petikDua = \"Kalimat Kedua, Selamat!!!\""
      ],
      "metadata": {
        "id": "EzWpVjdJK3sH"
      },
      "execution_count": null,
      "outputs": []
    },
    {
      "cell_type": "code",
      "source": [
        "print(petikDua)"
      ],
      "metadata": {
        "id": "GBDPRExqOcIj"
      },
      "execution_count": null,
      "outputs": []
    },
    {
      "cell_type": "markdown",
      "source": [
        "----> Dalam Python penggunaan tipe data String dengan petik satu (') atau petik dua (\") dinyatakan sama."
      ],
      "metadata": {
        "id": "PYyINyUqLZuA"
      }
    },
    {
      "cell_type": "code",
      "source": [
        "contoh_petiksatu = 'Ini dengan petik satu'\n",
        "contoh_petikdua = \"Ini dengan petik dua\""
      ],
      "metadata": {
        "id": "Xu-7_AKRLhK3"
      },
      "execution_count": null,
      "outputs": []
    },
    {
      "cell_type": "code",
      "source": [
        "print(contoh_petiksatu)"
      ],
      "metadata": {
        "colab": {
          "base_uri": "https://localhost:8080/"
        },
        "id": "qWsTk5TqOR0s",
        "outputId": "f92855d9-49f2-4714-d567-ef2753f55717"
      },
      "execution_count": null,
      "outputs": [
        {
          "output_type": "stream",
          "name": "stdout",
          "text": [
            "Ini dengan petik satu\n"
          ]
        }
      ]
    },
    {
      "cell_type": "code",
      "source": [
        "print(contoh_petikdua)"
      ],
      "metadata": {
        "colab": {
          "base_uri": "https://localhost:8080/"
        },
        "id": "3aGQguwuOTGU",
        "outputId": "f01e3958-af12-4489-f519-af489d542c7d"
      },
      "execution_count": null,
      "outputs": [
        {
          "output_type": "stream",
          "name": "stdout",
          "text": [
            "Ini dengan petik dua\n"
          ]
        }
      ]
    },
    {
      "cell_type": "markdown",
      "source": [
        "- **Inisialisasi String dengan Petik Tiga**\n",
        "\n",
        "> Biasanya digunakan untuk value dengan kata lebih dari satu baris."
      ],
      "metadata": {
        "id": "WbnnFhdtMWRU"
      }
    },
    {
      "cell_type": "code",
      "source": [
        "petikTiga = \"\"\"Python adalah bahasa pemrograman interpretatif multiguna. Tidak seperti bahasa lain\n",
        "yang susah untuk dibaca dan dipahami, python lebih menekankan pada keterbacaan kode agar lebih\n",
        "mudah untuk memahami sintaks. Hal ini membuat Python sangat mudah dipelajari baik untuk pemula\n",
        "maupun untuk yang sudah menguasai bahasa pemrograman lain\"\"\""
      ],
      "metadata": {
        "id": "8Wm6p699Mdkh"
      },
      "execution_count": null,
      "outputs": []
    },
    {
      "cell_type": "code",
      "source": [
        "print(petikTiga)"
      ],
      "metadata": {
        "colab": {
          "base_uri": "https://localhost:8080/"
        },
        "id": "dMPnurzVONj2",
        "outputId": "ed657742-d33b-4210-a5a1-2a54b850a8bd"
      },
      "execution_count": null,
      "outputs": [
        {
          "output_type": "stream",
          "name": "stdout",
          "text": [
            "Python adalah bahasa pemrograman interpretatif multiguna. Tidak seperti bahasa lain\n",
            "yang susah untuk dibaca dan dipahami, python lebih menekankan pada keterbacaan kode agar lebih\n",
            "mudah untuk memahami sintaks. Hal ini membuat Python sangat mudah dipelajari baik untuk pemula\n",
            "maupun untuk yang sudah menguasai bahasa pemrograman lain\n"
          ]
        }
      ]
    },
    {
      "cell_type": "markdown",
      "source": [
        "Kita juga dapat menggunakan '**\\n**' sebagai newline, sehingga tidak perlu menggunakan petik tiga tadi."
      ],
      "metadata": {
        "id": "TwPeBEh1M0Bg"
      }
    },
    {
      "cell_type": "code",
      "source": [
        "kalimat = \"Contoh kalimat dengan menggunakan newline.\\nAkan sama seperti menggunakan petik tiga tadi.\""
      ],
      "metadata": {
        "id": "8nalycY7M8B4"
      },
      "execution_count": null,
      "outputs": []
    },
    {
      "cell_type": "code",
      "source": [
        "print(kalimat)"
      ],
      "metadata": {
        "colab": {
          "base_uri": "https://localhost:8080/"
        },
        "id": "XsAOYkEbOJBF",
        "outputId": "3b0c7dbe-2629-48ed-dbdf-ab7efb67c0e2"
      },
      "execution_count": null,
      "outputs": [
        {
          "output_type": "stream",
          "name": "stdout",
          "text": [
            "Contoh kalimat dengan menggunakan newline.\n",
            "Akan sama seperti menggunakan petik tiga tadi.\n"
          ]
        }
      ]
    },
    {
      "cell_type": "markdown",
      "source": [
        "## **3. Tipe Data Boolean**\n",
        "\n",
        "> Tipe Data Boolean merupakan Tipe Data Logika yang hanya memiliki nilai True (1) atau False (0) / Benar atau Salah"
      ],
      "metadata": {
        "id": "us9J1cDBNo3O"
      }
    },
    {
      "cell_type": "code",
      "source": [
        "contohTrue = True"
      ],
      "metadata": {
        "id": "X5xJon0aOnrz"
      },
      "execution_count": null,
      "outputs": []
    },
    {
      "cell_type": "code",
      "source": [
        "print(contohTrue)"
      ],
      "metadata": {
        "colab": {
          "base_uri": "https://localhost:8080/"
        },
        "id": "7XpCtzgqPB2x",
        "outputId": "f09dd7f3-48f7-4896-a9a8-6f132280de88"
      },
      "execution_count": null,
      "outputs": [
        {
          "output_type": "stream",
          "name": "stdout",
          "text": [
            "True\n"
          ]
        }
      ]
    },
    {
      "cell_type": "code",
      "source": [
        "contohFalse = False"
      ],
      "metadata": {
        "id": "wjq7TWAdPFCp"
      },
      "execution_count": null,
      "outputs": []
    },
    {
      "cell_type": "code",
      "source": [
        "print(contohFalse)"
      ],
      "metadata": {
        "colab": {
          "base_uri": "https://localhost:8080/"
        },
        "id": "FTrz0CZQPHU5",
        "outputId": "0b326744-66b4-46df-d20d-0a96d09ba1b7"
      },
      "execution_count": null,
      "outputs": [
        {
          "output_type": "stream",
          "name": "stdout",
          "text": [
            "False\n"
          ]
        }
      ]
    },
    {
      "cell_type": "markdown",
      "source": [
        "** Biasanya **Tipe Data Boolean** ini digunakan untuk pengkondisian, pernyataan benar salah, perulangan, dan lain-lain."
      ],
      "metadata": {
        "id": "b1THwbTwPKDd"
      }
    },
    {
      "cell_type": "markdown",
      "source": [
        "## **Cara Mengetahui Tipe Data di Python**\n",
        "> Untuk mengetahui tipe data dalam python, bisa digunakan fungsi type(), contoh :"
      ],
      "metadata": {
        "id": "ksHvxRLpGzca"
      }
    },
    {
      "cell_type": "code",
      "source": [
        "Nama = \"Pevita Pearce\"\n",
        "Kelas = 12\n",
        "Nilai = 92.9\n",
        "Perempuan = True"
      ],
      "metadata": {
        "id": "lx4aDLN3HwKd"
      },
      "execution_count": null,
      "outputs": []
    },
    {
      "cell_type": "code",
      "source": [
        "type(Nama)"
      ],
      "metadata": {
        "colab": {
          "base_uri": "https://localhost:8080/"
        },
        "id": "ydrFo6-vHShz",
        "outputId": "e686285a-44ea-4a5c-d50b-3f2808fbf498"
      },
      "execution_count": null,
      "outputs": [
        {
          "output_type": "execute_result",
          "data": {
            "text/plain": [
              "str"
            ]
          },
          "metadata": {},
          "execution_count": 2
        }
      ]
    },
    {
      "cell_type": "code",
      "source": [
        "type(Kelas)"
      ],
      "metadata": {
        "colab": {
          "base_uri": "https://localhost:8080/"
        },
        "id": "yRImitOWH4e9",
        "outputId": "989c2f8f-3f5f-43db-d2b6-1cf23b65a7d3"
      },
      "execution_count": null,
      "outputs": [
        {
          "output_type": "execute_result",
          "data": {
            "text/plain": [
              "int"
            ]
          },
          "metadata": {},
          "execution_count": 3
        }
      ]
    },
    {
      "cell_type": "code",
      "source": [
        "type(Nilai)"
      ],
      "metadata": {
        "colab": {
          "base_uri": "https://localhost:8080/"
        },
        "id": "nchIltuoI0G9",
        "outputId": "8965054e-e97a-494a-f4e2-4007e4c5bc56"
      },
      "execution_count": null,
      "outputs": [
        {
          "output_type": "execute_result",
          "data": {
            "text/plain": [
              "float"
            ]
          },
          "metadata": {},
          "execution_count": 4
        }
      ]
    },
    {
      "cell_type": "code",
      "source": [
        "type(Perempuan)"
      ],
      "metadata": {
        "colab": {
          "base_uri": "https://localhost:8080/"
        },
        "id": "nYDW5qxfI5C3",
        "outputId": "b5d1f6b8-d335-439f-e232-932d261e4d7b"
      },
      "execution_count": null,
      "outputs": [
        {
          "output_type": "execute_result",
          "data": {
            "text/plain": [
              "bool"
            ]
          },
          "metadata": {},
          "execution_count": 5
        }
      ]
    }
  ]
}